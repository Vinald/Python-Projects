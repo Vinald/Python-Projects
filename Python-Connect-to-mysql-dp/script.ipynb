{
 "cells": [
  {
   "cell_type": "code",
   "execution_count": null,
   "id": "b1078472",
   "metadata": {},
   "outputs": [],
   "source": [
    "import mysql.connector"
   ]
  },
  {
   "cell_type": "code",
   "execution_count": null,
   "id": "b3d6dece",
   "metadata": {},
   "outputs": [],
   "source": [
    "db = mysql.connector.connect(host=\"localhost\", user=\"sam\", password=\"vinald1423@P\", database=\"test\")"
   ]
  },
  {
   "cell_type": "code",
   "execution_count": null,
   "id": "3e26a5d9",
   "metadata": {},
   "outputs": [],
   "source": [
    "mycursor = db.cursor()"
   ]
  },
  {
   "cell_type": "code",
   "execution_count": null,
   "id": "35763173",
   "metadata": {},
   "outputs": [],
   "source": [
    "# show the db\n",
    "mycursor.execute(\"SHOW DATABASES\")\n",
    "\n",
    "for x in mycursor:\n",
    "    print(x)"
   ]
  },
  {
   "cell_type": "code",
   "execution_count": null,
   "id": "3dab0d2f",
   "metadata": {},
   "outputs": [],
   "source": [
    "\n",
    "# create a table\n",
    "mycursor.execute(\"CREATE TABLE IF NOT EXISTS customers (name VARCHAR(255), address VARCHAR(255))\")"
   ]
  },
  {
   "cell_type": "code",
   "execution_count": null,
   "id": "2df79774",
   "metadata": {},
   "outputs": [],
   "source": [
    "\n",
    "# insert data\n",
    "sql = \"INSERT INTO customers (name, address) VALUES (%s, %s)\"\n",
    "val = (\"John\", \"Highway 21\")\n",
    "mycursor.execute(sql, val)\n",
    "db.commit()\n",
    "print(mycursor.rowcount, \"record inserted.\")\n",
    "\n",
    "val1 = (\"Peter\", \"Lowstreet 4\")\n",
    "mycursor.execute(sql, val1)\n",
    "db.commit()\n",
    "print(mycursor.rowcount, \"record inserted.\")\n",
    "\n",
    "\n",
    "val2 = (\"Amy\", \"Apple st 652\")\n",
    "mycursor.execute(sql, val2)\n",
    "db.commit()\n",
    "print(mycursor.rowcount, \"record inserted.\")\n",
    "\n",
    "    "
   ]
  },
  {
   "cell_type": "code",
   "execution_count": null,
   "id": "a2157591",
   "metadata": {},
   "outputs": [],
   "source": [
    "# fetch data\n",
    "mycursor.execute(\"SELECT * FROM customers\")\n",
    "myresult = mycursor.fetchall()\n",
    "for x in myresult:\n",
    "    print(x)"
   ]
  }
 ],
 "metadata": {
  "kernelspec": {
   "display_name": "allenv",
   "language": "python",
   "name": "python3"
  },
  "language_info": {
   "codemirror_mode": {
    "name": "ipython",
    "version": 3
   },
   "file_extension": ".py",
   "mimetype": "text/x-python",
   "name": "python",
   "nbconvert_exporter": "python",
   "pygments_lexer": "ipython3",
   "version": "3.12.3"
  }
 },
 "nbformat": 4,
 "nbformat_minor": 5
}
